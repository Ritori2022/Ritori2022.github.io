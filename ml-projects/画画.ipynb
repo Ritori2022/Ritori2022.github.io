{
  "cells": [
    {
      "cell_type": "markdown",
      "metadata": {
        "id": "view-in-github",
        "colab_type": "text"
      },
      "source": [
        "<a href=\"https://colab.research.google.com/github/Ritori2022/Ritori2022.github.io/blob/main/%E7%94%BB%E7%94%BB.ipynb\" target=\"_parent\"><img src=\"https://colab.research.google.com/assets/colab-badge.svg\" alt=\"Open In Colab\"/></a>"
      ]
    },
    {
      "cell_type": "markdown",
      "metadata": {
        "id": "4uISfvm60M2N"
      },
      "source": [
        "Credit: https://t.me/StableDiffusion_CN https://t.me/exlolicon\n",
        "\n",
        "FAQ: https://t.me/StableDiffusion_CN/13436"
      ]
    },
    {
      "cell_type": "markdown",
      "metadata": {
        "id": "dwfDDmiKhCZd"
      },
      "source": [
        "# 新段落"
      ]
    },
    {
      "cell_type": "markdown",
      "metadata": {
        "id": "-rdIb2YfhDWN"
      },
      "source": []
    },
    {
      "cell_type": "markdown",
      "metadata": {
        "id": "VBDPqhYnyBL1"
      },
      "source": [
        "Check GPU"
      ]
    },
    {
      "cell_type": "code",
      "execution_count": null,
      "metadata": {
        "colab": {
          "base_uri": "https://localhost:8080/"
        },
        "id": "woQCdVO8x-Kt",
        "outputId": "df92595e-406b-42ac-a088-9d64c6ce9b10"
      },
      "outputs": [
        {
          "name": "stdout",
          "output_type": "stream",
          "text": [
            "Fri Feb 24 03:45:32 2023       \n",
            "+-----------------------------------------------------------------------------+\n",
            "| NVIDIA-SMI 510.47.03    Driver Version: 510.47.03    CUDA Version: 11.6     |\n",
            "|-------------------------------+----------------------+----------------------+\n",
            "| GPU  Name        Persistence-M| Bus-Id        Disp.A | Volatile Uncorr. ECC |\n",
            "| Fan  Temp  Perf  Pwr:Usage/Cap|         Memory-Usage | GPU-Util  Compute M. |\n",
            "|                               |                      |               MIG M. |\n",
            "|===============================+======================+======================|\n",
            "|   0  Tesla T4            Off  | 00000000:00:04.0 Off |                    0 |\n",
            "| N/A   37C    P0    26W /  70W |      0MiB / 15360MiB |      0%      Default |\n",
            "|                               |                      |                  N/A |\n",
            "+-------------------------------+----------------------+----------------------+\n",
            "                                                                               \n",
            "+-----------------------------------------------------------------------------+\n",
            "| Processes:                                                                  |\n",
            "|  GPU   GI   CI        PID   Type   Process name                  GPU Memory |\n",
            "|        ID   ID                                                   Usage      |\n",
            "|=============================================================================|\n",
            "|  No running processes found                                                 |\n",
            "+-----------------------------------------------------------------------------+\n"
          ]
        }
      ],
      "source": [
        "!nvidia-smi"
      ]
    },
    {
      "cell_type": "markdown",
      "metadata": {
        "id": "OHCtG9MT0jLq"
      },
      "source": [
        "Clone webui repository"
      ]
    },
    {
      "cell_type": "code",
      "execution_count": null,
      "metadata": {
        "colab": {
          "base_uri": "https://localhost:8080/"
        },
        "id": "sBbcB4vwj_jm",
        "outputId": "487c967c-eccd-4206-ff6e-908ab3dd833e"
      },
      "outputs": [
        {
          "name": "stdout",
          "output_type": "stream",
          "text": [
            "/content\n",
            "Cloning into 'stable-diffusion-webui'...\n",
            "remote: Enumerating objects: 16434, done.\u001b[K\n",
            "remote: Total 16434 (delta 0), reused 0 (delta 0), pack-reused 16434\u001b[K\n",
            "Receiving objects: 100% (16434/16434), 27.51 MiB | 33.34 MiB/s, done.\n",
            "Resolving deltas: 100% (11493/11493), done.\n",
            "/content/stable-diffusion-webui\n",
            "Already up to date.\n"
          ]
        }
      ],
      "source": [
        "%cd /content\n",
        "!git clone https://github.com/AUTOMATIC1111/stable-diffusion-webui\n",
        "\n",
        "%cd stable-diffusion-webui\n",
        "!git pull"
      ]
    },
    {
      "cell_type": "markdown",
      "metadata": {
        "id": "F0EINk5M0s-w"
      },
      "source": [
        "Download the model from NovelAILeaks."
      ]
    },
    {
      "cell_type": "code",
      "execution_count": null,
      "metadata": {
        "colab": {
          "base_uri": "https://localhost:8080/"
        },
        "id": "ZzRNMT42Gw_p",
        "outputId": "5efe4661-18bd-4f63-fbd6-bf90490f1944"
      },
      "outputs": [
        {
          "name": "stdout",
          "output_type": "stream",
          "text": [
            "/content/stable-diffusion-webui/models/Stable-diffusion\n",
            "The following package was automatically installed and is no longer required:\n",
            "  libnvidia-common-510\n",
            "Use 'apt autoremove' to remove it.\n",
            "The following additional packages will be installed:\n",
            "  libaria2-0 libc-ares2\n",
            "The following NEW packages will be installed:\n",
            "  aria2 libaria2-0 libc-ares2\n",
            "0 upgraded, 3 newly installed, 0 to remove and 21 not upgraded.\n",
            "Need to get 1,476 kB of archives.\n",
            "After this operation, 5,958 kB of additional disk space will be used.\n",
            "Selecting previously unselected package libc-ares2:amd64.\n",
            "(Reading database ... 128126 files and directories currently installed.)\n",
            "Preparing to unpack .../libc-ares2_1.15.0-1ubuntu0.1_amd64.deb ...\n",
            "Unpacking libc-ares2:amd64 (1.15.0-1ubuntu0.1) ...\n",
            "Selecting previously unselected package libaria2-0:amd64.\n",
            "Preparing to unpack .../libaria2-0_1.35.0-1build1_amd64.deb ...\n",
            "Unpacking libaria2-0:amd64 (1.35.0-1build1) ...\n",
            "Selecting previously unselected package aria2.\n",
            "Preparing to unpack .../aria2_1.35.0-1build1_amd64.deb ...\n",
            "Unpacking aria2 (1.35.0-1build1) ...\n",
            "Setting up libc-ares2:amd64 (1.15.0-1ubuntu0.1) ...\n",
            "Setting up libaria2-0:amd64 (1.35.0-1build1) ...\n",
            "Setting up aria2 (1.35.0-1build1) ...\n",
            "Processing triggers for man-db (2.9.1-1) ...\n",
            "Processing triggers for libc-bin (2.31-0ubuntu9.9) ...\n",
            "\n",
            "02/24 03:45:47 [\u001b[1;32mNOTICE\u001b[0m] Downloading 2 item(s)\n",
            " *** Download Progress Summary as of Fri Feb 24 03:45:58 2023 *** \n",
            "=\n",
            "[#581077 846MiB/3.9GiB(20%) CN:3 DL:83MiB ETA:38s]\n",
            "FILE: /content/stable-diffusion-webui/models/Stable-diffusion/animefull-final-pruned.ckpt\n",
            "-\n",
            "[#af2a50 886MiB/3.9GiB(21%) CN:3 DL:91MiB ETA:34s]\n",
            "FILE: /content/stable-diffusion-webui/models/Stable-diffusion/animesfw-final-pruned.ckpt\n",
            "-\n",
            "\n",
            " *** Download Progress Summary as of Fri Feb 24 03:46:09 2023 *** \n",
            "=\n",
            "[#581077 1.7GiB/3.9GiB(44%) CN:3 DL:89MiB ETA:25s]\n",
            "FILE: /content/stable-diffusion-webui/models/Stable-diffusion/animefull-final-pruned.ckpt\n",
            "-\n",
            "[#af2a50 1.8GiB/3.9GiB(46%) CN:3 DL:91MiB ETA:23s]\n",
            "FILE: /content/stable-diffusion-webui/models/Stable-diffusion/animesfw-final-pruned.ckpt\n",
            "-\n",
            "\n",
            " *** Download Progress Summary as of Fri Feb 24 03:46:20 2023 *** \n",
            "=\n",
            "[#581077 2.7GiB/3.9GiB(68%) CN:3 DL:89MiB ETA:14s]\n",
            "FILE: /content/stable-diffusion-webui/models/Stable-diffusion/animefull-final-pruned.ckpt\n",
            "-\n",
            "[#af2a50 2.8GiB/3.9GiB(71%) CN:3 DL:91MiB ETA:12s]\n",
            "FILE: /content/stable-diffusion-webui/models/Stable-diffusion/animesfw-final-pruned.ckpt\n",
            "-\n",
            "\n",
            " *** Download Progress Summary as of Fri Feb 24 03:46:31 2023 *** \n",
            "=\n",
            "[#581077 3.5GiB/3.9GiB(89%) CN:3 DL:76MiB ETA:5s]\n",
            "FILE: /content/stable-diffusion-webui/models/Stable-diffusion/animefull-final-pruned.ckpt\n",
            "-\n",
            "[#af2a50 3.7GiB/3.9GiB(93%) CN:3 DL:81MiB ETA:3s]\n",
            "FILE: /content/stable-diffusion-webui/models/Stable-diffusion/animesfw-final-pruned.ckpt\n",
            "-\n",
            "\n",
            "\u001b[0m\n",
            "02/24 03:46:35 [\u001b[1;32mNOTICE\u001b[0m] Download complete: /content/stable-diffusion-webui/models/Stable-diffusion/animesfw-final-pruned.ckpt\n",
            "\u001b[0m\n",
            "02/24 03:46:37 [\u001b[1;32mNOTICE\u001b[0m] Download complete: /content/stable-diffusion-webui/models/Stable-diffusion/animefull-final-pruned.ckpt\n",
            "\n",
            "Download Results:\n",
            "gid   |stat|avg speed  |path/URI\n",
            "======+====+===========+=======================================================\n",
            "af2a50|\u001b[1;32mOK\u001b[0m  |    86MiB/s|/content/stable-diffusion-webui/models/Stable-diffusion/animesfw-final-pruned.ckpt\n",
            "581077|\u001b[1;32mOK\u001b[0m  |    82MiB/s|/content/stable-diffusion-webui/models/Stable-diffusion/animefull-final-pruned.ckpt\n",
            "\n",
            "Status Legend:\n",
            "(OK):download completed.\n",
            "  % Total    % Received % Xferd  Average Speed   Time    Time     Time  Current\n",
            "                                 Dload  Upload   Total   Spent    Left  Speed\n",
            "100  1873  100  1873    0     0   3393      0 --:--:-- --:--:-- --:--:--  3393\n",
            "  % Total    % Received % Xferd  Average Speed   Time    Time     Time  Current\n",
            "                                 Dload  Upload   Total   Spent    Left  Speed\n",
            "100  784M  100  784M    0     0  28.7M      0  0:00:27  0:00:27 --:--:-- 30.3M\n",
            "  % Total    % Received % Xferd  Average Speed   Time    Time     Time  Current\n",
            "                                 Dload  Upload   Total   Spent    Left  Speed\n",
            "100 1004M  100 1004M    0     0   123M      0  0:00:08  0:00:08 --:--:--  130M\n"
          ]
        }
      ],
      "source": [
        "!mkdir -p /content/stable-diffusion-webui/models/Stable-diffusion /content/stable-diffusion-webui/models/hypernetworks\n",
        "%cd /content/stable-diffusion-webui/models/Stable-diffusion/\n",
        "!apt install -y -qq aria2\n",
        "\n",
        "# animesfw-final-pruned + 4G animefull-final-pruned\n",
        "!aria2c --summary-interval=10 -x 3 --allow-overwrite=true -Z \\\n",
        "  https://pub-2fdef7a2969f43289c42ac5ae3412fd4.r2.dev/animefull-final-pruned.ckpt \\\n",
        "  https://pub-2fdef7a2969f43289c42ac5ae3412fd4.r2.dev/animesfw-final-pruned.ckpt\n",
        "!curl -Lo /content/stable-diffusion-webui/config.yaml https://pub-2fdef7a2969f43289c42ac5ae3412fd4.r2.dev/config-pruned.yaml\n",
        "\n",
        "# disabled models\n",
        "# !aria2c --summary-interval=10 -x 3 --allow-overwrite=true -Z \\\n",
        "#   https://pub-2fdef7a2969f43289c42ac5ae3412fd4.r2.dev/animefull-latest.ckpt \\\n",
        "#   https://pub-2fdef7a2969f43289c42ac5ae3412fd4.r2.dev/animesfw-latest.ckpt\n",
        "# !curl -Lo /content/stable-diffusion-webui/config.yaml https://pub-2fdef7a2969f43289c42ac5ae3412fd4.r2.dev/config-latest.yaml\n",
        "\n",
        "# Install VAE Weights (optional)\n",
        "!curl -Lo /content/animevae.pt https://pub-2fdef7a2969f43289c42ac5ae3412fd4.r2.dev/animevae.pt\n",
        "\n",
        "# Install hypernetwork （optional)\n",
        "!curl -L https://cloudflare-ipfs.com/ipfs/bafybeiduanx2b3mcvxlwr66igcwnpfmk3nc3qgxlpwh6oq6m6pxii3f77e/_modules.tar | tar x -C /content/stable-diffusion-webui/models/hypernetworks\n",
        "\n",
        "# Install embeddings (optional)\n",
        "# !curl -L https://cloudflare-ipfs.com/ipfs/bafybeie3hdjchxs5tz4n75bos53nhcklslguxchdurc2ynrzcfv2kwyklu/embeddings.tar | tar x -C /content/stable-diffusion-webui/embeddings"
      ]
    },
    {
      "cell_type": "markdown",
      "metadata": {
        "id": "xt8lbdmC04ox"
      },
      "source": [
        "Launch web ui. You will get a link to nnn.gradio.app, follow it.\n",
        "\n",
        "Commandline arguments are:\n",
        "  - `--share` - create online gradio.app link\n",
        "  - `--gradio-debug` - print outputs to console\n",
        "  - `--gradio-auth me:qwerty` - add authentication to gradio: username me, password qwerty"
      ]
    },
    {
      "cell_type": "code",
      "execution_count": null,
      "metadata": {
        "colab": {
          "background_save": true,
          "base_uri": "https://localhost:8080/"
        },
        "id": "R-xAdMA5wxXd",
        "outputId": "af98d72b-0838-43f3-d875-05185fb8e4f4"
      },
      "outputs": [
        {
          "name": "stdout",
          "output_type": "stream",
          "text": [
            "/content/stable-diffusion-webui\n",
            "\u001b[33mWARNING: Running pip as the 'root' user can result in broken permissions and conflicting behaviour with the system package manager. It is recommended to use a virtual environment instead: https://pip.pypa.io/warnings/venv\u001b[0m\u001b[33m\n",
            "\u001b[0m\u001b[31mERROR: pip's dependency resolver does not currently take into account all the packages that are installed. This behaviour is the source of the following dependency conflicts.\n",
            "tensorflow 2.11.0 requires protobuf<3.20,>=3.9.2, but you have protobuf 3.20.3 which is incompatible.\n",
            "open-clip-torch 2.7.0 requires protobuf==3.20.0, but you have protobuf 3.20.3 which is incompatible.\u001b[0m\u001b[31m\n",
            "\u001b[0m\u001b[33mWARNING: Running pip as the 'root' user can result in broken permissions and conflicting behaviour with the system package manager. It is recommended to use a virtual environment instead: https://pip.pypa.io/warnings/venv\u001b[0m\u001b[33m\n",
            "\u001b[0m\u001b[33mWARNING: Running pip as the 'root' user can result in broken permissions and conflicting behaviour with the system package manager. It is recommended to use a virtual environment instead: https://pip.pypa.io/warnings/venv\u001b[0m\u001b[33m\n",
            "\u001b[0mPython 3.8.10 (default, Nov 14 2022, 12:59:47) \n",
            "[GCC 9.4.0]\n",
            "Commit hash: 0cc0ee1bcb4c24a8c9715f66cede06601bfc00c8\n",
            "Installing requirements for Web UI\n",
            "Launching Web UI with arguments: --share --gradio-debug --config config.yaml --vae-path /content/animevae.pt\n",
            "2023-02-24 04:05:45.752112: I tensorflow/core/platform/cpu_feature_guard.cc:193] This TensorFlow binary is optimized with oneAPI Deep Neural Network Library (oneDNN) to use the following CPU instructions in performance-critical operations:  AVX2 FMA\n",
            "To enable them in other operations, rebuild TensorFlow with the appropriate compiler flags.\n",
            "2023-02-24 04:05:48.906332: W tensorflow/compiler/xla/stream_executor/platform/default/dso_loader.cc:64] Could not load dynamic library 'libnvinfer.so.7'; dlerror: libnvinfer.so.7: cannot open shared object file: No such file or directory; LD_LIBRARY_PATH: /usr/local/lib/python3.8/dist-packages/cv2/../../lib64:/usr/lib64-nvidia\n",
            "2023-02-24 04:05:48.906530: W tensorflow/compiler/xla/stream_executor/platform/default/dso_loader.cc:64] Could not load dynamic library 'libnvinfer_plugin.so.7'; dlerror: libnvinfer_plugin.so.7: cannot open shared object file: No such file or directory; LD_LIBRARY_PATH: /usr/local/lib/python3.8/dist-packages/cv2/../../lib64:/usr/lib64-nvidia\n",
            "2023-02-24 04:05:48.906558: W tensorflow/compiler/tf2tensorrt/utils/py_utils.cc:38] TF-TRT Warning: Cannot dlopen some TensorRT libraries. If you would like to use Nvidia GPU with TensorRT, please make sure the missing libraries mentioned above are installed properly.\n",
            "No module 'xformers'. Proceeding without it.\n",
            "Loading weights [89d59c3dde] from /content/stable-diffusion-webui/models/Stable-diffusion/animefull-final-pruned.ckpt\n",
            "Creating model from config: /content/stable-diffusion-webui/configs/v1-inference.yaml\n",
            "LatentDiffusion: Running in eps-prediction mode\n",
            "DiffusionWrapper has 859.52 M params.\n",
            "Loading VAE weights from commandline argument: /content/animevae.pt\n",
            "Applying cross attention optimization (Doggettx).\n",
            "Textual inversion embeddings loaded(0): \n",
            "Model loaded in 32.2s (load weights from disk: 15.7s, create model: 1.3s, apply weights to model: 3.1s, apply half(): 1.3s, load VAE: 10.0s, move model to device: 0.7s).\n",
            "Running on local URL:  http://127.0.0.1:7860\n",
            "Running on public URL: https://6fdb243b-ffa5-49d8.gradio.live\n",
            "\n",
            "This share link expires in 72 hours. For free permanent hosting and GPU upgrades (NEW!), check out Spaces: https://huggingface.co/spaces\n"
          ]
        }
      ],
      "source": [
        "%cd /content/stable-diffusion-webui\n",
        "\n",
        "# hacks to load model in colab\n",
        "!sed -i 's/map_location=\"cpu\"/map_location=\"cuda\"/g' /content/stable-diffusion-webui/modules/sd_models.py\n",
        "\n",
        "# Use novelai stable-diffusion-private (maybe slow, optional)\n",
        "# !mkdir -p repositories/stable-diffusion\n",
        "# !curl -L https://cloudflare-ipfs.com/ipfs/bafybeiauciguui6skzcwg23mjprjbuqhfzudms2gfi4rna55bygc3s6yxa/stable-diffusion-private.tar | tar x -C repositories/stable-diffusion\n",
        "# !git config --global --add safe.directory /content/stable-diffusion-webui/repositories/stable-diffusion\n",
        "# !pip3 install -U --pre triton icecream xformers\n",
        "# !sed -i 's/transformer\\.text_model/transformer/g' modules/sd_hijack.py\n",
        "# !sed -i 's/self.model.device/\"cuda\"/g' /content/stable-diffusion-webui/repositories/stable-diffusion/ldm/models/diffusion/*.py\n",
        "# !COMMANDLINE_ARGS=\"--share --gradio-debug --config config.yaml --xformers --vae-path /content/animevae.pt\" \\\n",
        "#  REQS_FILE=\"requirements.txt\" STABLE_DIFFUSION_COMMIT_HASH=\"5d95f1742ab1831d99df91c1a469b2b56a61eebf\" python launch.py\n",
        "\n",
        "# ...Or use normal stable-diffusion\n",
        "!pip install -U -qq pip\n",
        "!pip install -qq -r requirements.txt\n",
        "!pip install -qq pytorch_lightning==1.7.7\n",
        "!echo \"\" > /tmp/requirements_empty.txt\n",
        "!COMMANDLINE_ARGS=\"--share --gradio-debug --config config.yaml --vae-path /content/animevae.pt\" REQS_FILE=\"/tmp/requirements_empty.txt\" python launch.py"
      ]
    },
    {
      "cell_type": "markdown",
      "metadata": {
        "id": "T3957x2AY7iP"
      },
      "source": [
        "commands for ***after*** you have gotten done with a session\n",
        "============================================================================"
      ]
    },
    {
      "cell_type": "markdown",
      "metadata": {
        "id": "aCtJffM2ZE06"
      },
      "source": [
        "Zip images for downloading on local drive (click the folder icon on the left, the one below {x})"
      ]
    },
    {
      "cell_type": "code",
      "execution_count": null,
      "metadata": {
        "colab": {
          "base_uri": "https://localhost:8080/"
        },
        "id": "TmRqNyiAZCHu",
        "outputId": "1ea7974e-26d6-40c2-bd8e-da0dc73b45ed"
      },
      "outputs": [
        {
          "name": "stdout",
          "output_type": "stream",
          "text": [
            "  adding: content/stable-diffusion-webui/outputs/ (stored 0%)\n",
            "  adding: content/stable-diffusion-webui/outputs/txt2img-images/ (stored 0%)\n",
            "  adding: content/stable-diffusion-webui/outputs/txt2img-images/2023-02-24/ (stored 0%)\n",
            "  adding: content/stable-diffusion-webui/outputs/txt2img-images/2023-02-24/00014-1737121048.png (deflated 0%)\n",
            "  adding: content/stable-diffusion-webui/outputs/txt2img-images/2023-02-24/00037-1737121071.png (deflated 0%)\n",
            "  adding: content/stable-diffusion-webui/outputs/txt2img-images/2023-02-24/00061-1737121095.png (deflated 0%)\n",
            "  adding: content/stable-diffusion-webui/outputs/txt2img-images/2023-02-24/00013-1737121047.png (deflated 0%)\n",
            "  adding: content/stable-diffusion-webui/outputs/txt2img-images/2023-02-24/00002-1737121036.png (deflated 0%)\n",
            "  adding: content/stable-diffusion-webui/outputs/txt2img-images/2023-02-24/00023-1737121057.png (deflated 0%)\n",
            "  adding: content/stable-diffusion-webui/outputs/txt2img-images/2023-02-24/00019-1737121053.png (deflated 0%)\n",
            "  adding: content/stable-diffusion-webui/outputs/txt2img-images/2023-02-24/00004-1737121038.png (deflated 0%)\n",
            "  adding: content/stable-diffusion-webui/outputs/txt2img-images/2023-02-24/00056-1737121090.png (deflated 0%)\n",
            "  adding: content/stable-diffusion-webui/outputs/txt2img-images/2023-02-24/00009-1737121043.png (deflated 0%)\n",
            "  adding: content/stable-diffusion-webui/outputs/txt2img-images/2023-02-24/00022-1737121056.png (deflated 0%)\n",
            "  adding: content/stable-diffusion-webui/outputs/txt2img-images/2023-02-24/00010-1737121044.png (deflated 0%)\n",
            "  adding: content/stable-diffusion-webui/outputs/txt2img-images/2023-02-24/00011-1737121045.png (deflated 0%)\n",
            "  adding: content/stable-diffusion-webui/outputs/txt2img-images/2023-02-24/00007-1737121041.png (deflated 0%)\n",
            "  adding: content/stable-diffusion-webui/outputs/txt2img-images/2023-02-24/00003-1737121037.png (deflated 0%)\n",
            "  adding: content/stable-diffusion-webui/outputs/txt2img-images/2023-02-24/00032-1737121066.png (deflated 0%)\n",
            "  adding: content/stable-diffusion-webui/outputs/txt2img-images/2023-02-24/00018-1737121052.png (deflated 0%)\n",
            "  adding: content/stable-diffusion-webui/outputs/txt2img-images/2023-02-24/00050-1737121084.png (deflated 0%)\n",
            "  adding: content/stable-diffusion-webui/outputs/txt2img-images/2023-02-24/00057-1737121091.png (deflated 0%)\n",
            "  adding: content/stable-diffusion-webui/outputs/txt2img-images/2023-02-24/00043-1737121077.png (deflated 0%)\n",
            "  adding: content/stable-diffusion-webui/outputs/txt2img-images/2023-02-24/00047-1737121081.png (deflated 0%)\n",
            "  adding: content/stable-diffusion-webui/outputs/txt2img-images/2023-02-24/00053-1737121087.png (deflated 0%)\n",
            "  adding: content/stable-diffusion-webui/outputs/txt2img-images/2023-02-24/00027-1737121061.png (deflated 0%)\n",
            "  adding: content/stable-diffusion-webui/outputs/txt2img-images/2023-02-24/00017-1737121051.png (deflated 0%)\n",
            "  adding: content/stable-diffusion-webui/outputs/txt2img-images/2023-02-24/00033-1737121067.png (deflated 0%)\n",
            "  adding: content/stable-diffusion-webui/outputs/txt2img-images/2023-02-24/00052-1737121086.png (deflated 0%)\n",
            "  adding: content/stable-diffusion-webui/outputs/txt2img-images/2023-02-24/00006-1737121040.png (deflated 0%)\n",
            "  adding: content/stable-diffusion-webui/outputs/txt2img-images/2023-02-24/00040-1737121074.png (deflated 0%)\n",
            "  adding: content/stable-diffusion-webui/outputs/txt2img-images/2023-02-24/00001-1737121035.png (deflated 0%)\n",
            "  adding: content/stable-diffusion-webui/outputs/txt2img-images/2023-02-24/00026-1737121060.png (deflated 0%)\n",
            "  adding: content/stable-diffusion-webui/outputs/txt2img-images/2023-02-24/00034-1737121068.png (deflated 0%)\n",
            "  adding: content/stable-diffusion-webui/outputs/txt2img-images/2023-02-24/00028-1737121062.png (deflated 0%)\n",
            "  adding: content/stable-diffusion-webui/outputs/txt2img-images/2023-02-24/00059-1737121093.png (deflated 0%)\n",
            "  adding: content/stable-diffusion-webui/outputs/txt2img-images/2023-02-24/00044-1737121078.png (deflated 0%)\n",
            "  adding: content/stable-diffusion-webui/outputs/txt2img-images/2023-02-24/00012-1737121046.png (deflated 0%)\n",
            "  adding: content/stable-diffusion-webui/outputs/txt2img-images/2023-02-24/00039-1737121073.png (deflated 0%)\n",
            "  adding: content/stable-diffusion-webui/outputs/txt2img-images/2023-02-24/00036-1737121070.png (deflated 0%)\n",
            "  adding: content/stable-diffusion-webui/outputs/txt2img-images/2023-02-24/00048-1737121082.png (deflated 0%)\n",
            "  adding: content/stable-diffusion-webui/outputs/txt2img-images/2023-02-24/00021-1737121055.png (deflated 0%)\n",
            "  adding: content/stable-diffusion-webui/outputs/txt2img-images/2023-02-24/00051-1737121085.png (deflated 0%)\n",
            "  adding: content/stable-diffusion-webui/outputs/txt2img-images/2023-02-24/00055-1737121089.png (deflated 0%)\n",
            "  adding: content/stable-diffusion-webui/outputs/txt2img-images/2023-02-24/00024-1737121058.png (deflated 0%)\n",
            "  adding: content/stable-diffusion-webui/outputs/txt2img-images/2023-02-24/00063-1737121097.png (deflated 0%)\n",
            "  adding: content/stable-diffusion-webui/outputs/txt2img-images/2023-02-24/00042-1737121076.png (deflated 0%)\n",
            "  adding: content/stable-diffusion-webui/outputs/txt2img-images/2023-02-24/00041-1737121075.png (deflated 0%)\n",
            "  adding: content/stable-diffusion-webui/outputs/txt2img-images/2023-02-24/00058-1737121092.png (deflated 0%)\n",
            "  adding: content/stable-diffusion-webui/outputs/txt2img-images/2023-02-24/00000-1737121034.png (deflated 0%)\n",
            "  adding: content/stable-diffusion-webui/outputs/txt2img-images/2023-02-24/00046-1737121080.png (deflated 0%)\n",
            "  adding: content/stable-diffusion-webui/outputs/txt2img-images/2023-02-24/00038-1737121072.png (deflated 0%)\n",
            "  adding: content/stable-diffusion-webui/outputs/txt2img-images/2023-02-24/00020-1737121054.png (deflated 0%)\n",
            "  adding: content/stable-diffusion-webui/outputs/txt2img-images/2023-02-24/00029-1737121063.png (deflated 0%)\n",
            "  adding: content/stable-diffusion-webui/outputs/txt2img-images/2023-02-24/00025-1737121059.png (deflated 0%)\n",
            "  adding: content/stable-diffusion-webui/outputs/txt2img-images/2023-02-24/00005-1737121039.png (deflated 0%)\n",
            "  adding: content/stable-diffusion-webui/outputs/txt2img-images/2023-02-24/00016-1737121050.png (deflated 0%)\n",
            "  adding: content/stable-diffusion-webui/outputs/txt2img-images/2023-02-24/00030-1737121064.png (deflated 0%)\n",
            "  adding: content/stable-diffusion-webui/outputs/txt2img-images/2023-02-24/00045-1737121079.png (deflated 0%)\n",
            "  adding: content/stable-diffusion-webui/outputs/txt2img-images/2023-02-24/00049-1737121083.png (deflated 0%)\n",
            "  adding: content/stable-diffusion-webui/outputs/txt2img-images/2023-02-24/00015-1737121049.png (deflated 0%)\n",
            "  adding: content/stable-diffusion-webui/outputs/txt2img-images/2023-02-24/00060-1737121094.png (deflated 0%)\n",
            "  adding: content/stable-diffusion-webui/outputs/txt2img-images/2023-02-24/00008-1737121042.png (deflated 0%)\n",
            "  adding: content/stable-diffusion-webui/outputs/txt2img-images/2023-02-24/00035-1737121069.png (deflated 0%)\n",
            "  adding: content/stable-diffusion-webui/outputs/txt2img-images/2023-02-24/00031-1737121065.png (deflated 0%)\n",
            "  adding: content/stable-diffusion-webui/outputs/txt2img-images/2023-02-24/00062-1737121096.png (deflated 0%)\n",
            "  adding: content/stable-diffusion-webui/outputs/txt2img-images/2023-02-24/00054-1737121088.png (deflated 0%)\n"
          ]
        }
      ],
      "source": [
        "!zip -r /content/stable-diffusion-webui /content/stable-diffusion-webui/outputs"
      ]
    },
    {
      "cell_type": "markdown",
      "metadata": {
        "id": "tcslU-S2ZNr9"
      },
      "source": [
        "Save images to Google Drive **Warning: this will cause google to scan your drive, so if you intend to use this and worry about that kind of stuff, probablly just set this up on a clean account that's just for this colab**"
      ]
    },
    {
      "cell_type": "code",
      "execution_count": null,
      "metadata": {
        "colab": {
          "base_uri": "https://localhost:8080/"
        },
        "id": "-N0lnu-TZOTW",
        "outputId": "14b68eef-cad2-4e28-accb-8a4cb55ef696"
      },
      "outputs": [
        {
          "name": "stdout",
          "output_type": "stream",
          "text": [
            "...error mounting drive or with drive path variables\n",
            "cp: cannot create directory '/content/drive/MyDrive': No such file or directory\n"
          ]
        }
      ],
      "source": [
        "from google.colab import drive # type: ignore\n",
        "\n",
        "try:\n",
        "   drive_path = \"/content/drive\"\n",
        "   drive.mount(drive_path,force_remount=False)\n",
        "except:\n",
        "   print(\"...error mounting drive or with drive path variables\")\n",
        "\n",
        "!cp -r \"/content/stable-diffusion-webui/outputs\" \"/content/drive/MyDrive\""
      ]
    }
  ],
  "metadata": {
    "accelerator": "GPU",
    "colab": {
      "provenance": [],
      "include_colab_link": true
    },
    "gpuClass": "standard",
    "kernelspec": {
      "display_name": "Python 3",
      "name": "python3"
    },
    "language_info": {
      "name": "python"
    }
  },
  "nbformat": 4,
  "nbformat_minor": 0
}